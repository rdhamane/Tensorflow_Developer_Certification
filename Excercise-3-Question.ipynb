{
 "cells": [
  {
   "cell_type": "markdown",
   "metadata": {
    "colab_type": "text",
    "id": "iQjHqsmTAVLU"
   },
   "source": [
    "## Exercise 3\n",
    "In the videos you looked at how you would improve Fashion MNIST using Convolutions. For your exercise see if you can improve MNIST to 99.8% accuracy or more using only a single convolutional layer and a single MaxPooling 2D. You should stop training once the accuracy goes above this amount. It should happen in less than 20 epochs, so it's ok to hard code the number of epochs for training, but your training must end once it hits the above metric. If it doesn't, then you'll need to redesign your layers.\n",
    "\n",
    "I've started the code for you -- you need to finish it!\n",
    "\n",
    "When 99.8% accuracy has been hit, you should print out the string \"Reached 99.8% accuracy so cancelling training!\"\n"
   ]
  },
  {
   "cell_type": "code",
   "execution_count": 1,
   "metadata": {},
   "outputs": [],
   "source": [
    "import tensorflow as tf\n",
    "from os import path, getcwd, chdir\n",
    "\n",
    "# DO NOT CHANGE THE LINE BELOW. If you are developing in a local\n",
    "# environment, then grab mnist.npz from the Coursera Jupyter Notebook\n",
    "# and place it inside a local folder and edit the path to that location\n",
    "path = f\"{getcwd()}/../tmp2/mnist.npz\""
   ]
  },
  {
   "cell_type": "code",
   "execution_count": 2,
   "metadata": {},
   "outputs": [],
   "source": [
    "config = tf.ConfigProto()\n",
    "config.gpu_options.allow_growth = True\n",
    "sess = tf.Session(config=config)"
   ]
  },
  {
   "cell_type": "code",
   "execution_count": 10,
   "metadata": {},
   "outputs": [],
   "source": [
    "# GRADED FUNCTION: train_mnist_conv\n",
    "def train_mnist_conv():\n",
    "    # Please write your code only where you are indicated.\n",
    "    # please do not remove model fitting inline comments.\n",
    "\n",
    "    # YOUR CODE STARTS HERE\n",
    "    class myCallback(tf.keras.callbacks.Callback):\n",
    "        def on_epoch_end(self, epoch,logs={}):\n",
    "            print(logs.get('accuracy'))\n",
    "            if (logs.get('accuracy') is not None):\n",
    "                if (logs.get('accuracy')>=0.998):\n",
    "                    print(\"Reached 99.8% accuracy so cancelling training!\")\n",
    "                    self.model.stop_training=True\n",
    "            \n",
    "    callbacks=myCallback()\n",
    "    # YOUR CODE ENDS HERE\n",
    "\n",
    "    mnist = tf.keras.datasets.mnist\n",
    "    (training_images, training_labels), (test_images, test_labels) = mnist.load_data(path=path)\n",
    "    # YOUR CODE STARTS HERE\n",
    "    training_images = training_images[:3000]\n",
    "    training_labels = training_labels[:3000] \n",
    "    print(training_images.shape)\n",
    "    print(test_images.shape)\n",
    "    training_images=training_images.reshape(3000, 28, 28, 1)\n",
    "    training_images=training_images / 255.0\n",
    "    test_images = test_images.reshape(10000, 28, 28, 1)\n",
    "    test_images=test_images/255.0\n",
    "    # YOUR CODE ENDS HERE\n",
    "\n",
    "    model = tf.keras.models.Sequential([\n",
    "            # YOUR CODE STARTS HERE\n",
    "            # Try to simplify the architecture as much as possible. You can reach the target accuracy\n",
    "            # with just a single convolution and max pooling followed by the usual flatten and dense layers.\n",
    "            # If you get grader timeouts in your submission, try to minimize the number of convolution filters \n",
    "            # and dense units.\n",
    "            tf.keras.layers.Conv2D(32, (3,3),activation='relu', input_shape=(28, 28, 1)),\n",
    "            tf.keras.layers.MaxPooling2D(2, 2),\n",
    "            tf.keras.layers.Flatten(),\n",
    "            tf.keras.layers.Dense(128, activation='relu'),\n",
    "            tf.keras.layers.Dense(10, activation='softmax')\n",
    "            # YOUR CODE ENDS HERE\n",
    "    ])\n",
    "\n",
    "    model.compile(optimizer='adam', loss='sparse_categorical_crossentropy', metrics=['accuracy'])\n",
    "    # model fitting\n",
    "    history = model.fit(\n",
    "        # YOUR CODE STARTS HERE\n",
    "        # Remember to set a callback function to stop the training when the target accuracy is reached. \n",
    "        # It should be met in less than 20 epochs.\n",
    "        training_images, training_labels, epochs=10, batch_size=5, callbacks=[callbacks]\n",
    "        # YOUR CODE ENDS HERE\n",
    "    )\n",
    "    # model fitting\n",
    "    return history.epoch, history.history['acc'][-1]\n",
    "\n"
   ]
  },
  {
   "cell_type": "code",
   "execution_count": 11,
   "metadata": {},
   "outputs": [
    {
     "name": "stdout",
     "output_type": "stream",
     "text": [
      "(3000, 28, 28)\n",
      "(10000, 28, 28)\n",
      "Epoch 1/10\n",
      "2925/3000 [============================>.] - ETA: 0s - loss: 0.4954 - acc: 0.8544None\n",
      "3000/3000 [==============================] - 4s 1ms/sample - loss: 0.4884 - acc: 0.8570\n",
      "Epoch 2/10\n",
      "2920/3000 [============================>.] - ETA: 0s - loss: 0.1559 - acc: 0.9510None\n",
      "3000/3000 [==============================] - 4s 1ms/sample - loss: 0.1556 - acc: 0.9513\n",
      "Epoch 3/10\n",
      "2970/3000 [============================>.] - ETA: 0s - loss: 0.0711 - acc: 0.9774- ETA: 0s - loss: 0.0661 - acc:None\n",
      "3000/3000 [==============================] - 4s 1ms/sample - loss: 0.0719 - acc: 0.9773\n",
      "Epoch 4/10\n",
      "2925/3000 [============================>.] - ETA: 0s - loss: 0.0341 - acc: 0.9932None\n",
      "3000/3000 [==============================] - 4s 1ms/sample - loss: 0.0336 - acc: 0.9933\n",
      "Epoch 5/10\n",
      "2945/3000 [============================>.] - ETA: 0s - loss: 0.0115 - acc: 0.9973None\n",
      "3000/3000 [==============================] - 3s 1ms/sample - loss: 0.0116 - acc: 0.9973\n",
      "Epoch 6/10\n",
      "2935/3000 [============================>.] - ETA: 0s - loss: 0.0100 - acc: 0.9980None\n",
      "3000/3000 [==============================] - 4s 1ms/sample - loss: 0.0098 - acc: 0.9980\n",
      "Epoch 7/10\n",
      "2935/3000 [============================>.] - ETA: 0s - loss: 0.0137 - acc: 0.9952None\n",
      "3000/3000 [==============================] - 3s 1ms/sample - loss: 0.0135 - acc: 0.9953\n",
      "Epoch 8/10\n",
      "2965/3000 [============================>.] - ETA: 0s - loss: 0.0027 - acc: 1.0000None\n",
      "3000/3000 [==============================] - 3s 1ms/sample - loss: 0.0027 - acc: 1.0000\n",
      "Epoch 9/10\n",
      "2990/3000 [============================>.] - ETA: 0s - loss: 7.1048e-04 - acc: 1.0000None\n",
      "3000/3000 [==============================] - 3s 1ms/sample - loss: 7.0841e-04 - acc: 1.0000\n",
      "Epoch 10/10\n",
      "2975/3000 [============================>.] - ETA: 0s - loss: 3.2390e-04 - acc: 1.0000None\n",
      "3000/3000 [==============================] - 4s 1ms/sample - loss: 3.2350e-04 - acc: 1.0000\n"
     ]
    }
   ],
   "source": [
    "_, _ = train_mnist_conv()"
   ]
  },
  {
   "cell_type": "code",
   "execution_count": 40,
   "metadata": {},
   "outputs": [],
   "source": [
    "# Now click the 'Submit Assignment' button above.\n",
    "# Once that is complete, please run the following two cells to save your work and close the notebook"
   ]
  },
  {
   "cell_type": "code",
   "execution_count": 41,
   "metadata": {},
   "outputs": [
    {
     "data": {
      "application/javascript": [
       "<!-- Save the notebook -->\n",
       "IPython.notebook.save_checkpoint();\n"
      ],
      "text/plain": [
       "<IPython.core.display.Javascript object>"
      ]
     },
     "metadata": {},
     "output_type": "display_data"
    }
   ],
   "source": [
    "%%javascript\n",
    "<!-- Save the notebook -->\n",
    "IPython.notebook.save_checkpoint();"
   ]
  },
  {
   "cell_type": "code",
   "execution_count": null,
   "metadata": {},
   "outputs": [
    {
     "data": {
      "application/javascript": [
       "IPython.notebook.session.delete();\n",
       "window.onbeforeunload = null\n",
       "setTimeout(function() { window.close(); }, 1000);\n"
      ],
      "text/plain": [
       "<IPython.core.display.Javascript object>"
      ]
     },
     "metadata": {},
     "output_type": "display_data"
    }
   ],
   "source": [
    "%%javascript\n",
    "IPython.notebook.session.delete();\n",
    "window.onbeforeunload = null\n",
    "setTimeout(function() { window.close(); }, 1000);"
   ]
  },
  {
   "cell_type": "code",
   "execution_count": null,
   "metadata": {},
   "outputs": [],
   "source": []
  }
 ],
 "metadata": {
  "coursera": {
   "course_slug": "introduction-tensorflow",
   "graded_item_id": "ml06H",
   "launcher_item_id": "hQF8A"
  },
  "kernelspec": {
   "display_name": "Python 3 (ipykernel)",
   "language": "python",
   "name": "python3"
  },
  "language_info": {
   "codemirror_mode": {
    "name": "ipython",
    "version": 3
   },
   "file_extension": ".py",
   "mimetype": "text/x-python",
   "name": "python",
   "nbconvert_exporter": "python",
   "pygments_lexer": "ipython3",
   "version": "3.9.7"
  }
 },
 "nbformat": 4,
 "nbformat_minor": 1
}
