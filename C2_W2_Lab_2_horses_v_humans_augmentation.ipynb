{
  "nbformat": 4,
  "nbformat_minor": 0,
  "metadata": {
    "accelerator": "GPU",
    "colab": {
      "name": "C2_W2_Lab_2_horses_v_humans_augmentation.ipynb",
      "provenance": [],
      "collapsed_sections": [],
      "toc_visible": true
    },
    "kernelspec": {
      "display_name": "Python 3",
      "language": "python",
      "name": "python3"
    },
    "language_info": {
      "codemirror_mode": {
        "name": "ipython",
        "version": 3
      },
      "file_extension": ".py",
      "mimetype": "text/x-python",
      "name": "python",
      "nbconvert_exporter": "python",
      "pygments_lexer": "ipython3",
      "version": "3.8.5"
    }
  },
  "cells": [
    {
      "cell_type": "markdown",
      "metadata": {
        "id": "rX8mhOLljYeM"
      },
      "source": [
        "##### Copyright 2019 The TensorFlow Authors."
      ]
    },
    {
      "cell_type": "code",
      "metadata": {
        "cellView": "form",
        "id": "BZSlp3DAjdYf"
      },
      "source": [
        "#@title Licensed under the Apache License, Version 2.0 (the \"License\");\n",
        "# you may not use this file except in compliance with the License.\n",
        "# You may obtain a copy of the License at\n",
        "#\n",
        "# https://www.apache.org/licenses/LICENSE-2.0\n",
        "#\n",
        "# Unless required by applicable law or agreed to in writing, software\n",
        "# distributed under the License is distributed on an \"AS IS\" BASIS,\n",
        "# WITHOUT WARRANTIES OR CONDITIONS OF ANY KIND, either express or implied.\n",
        "# See the License for the specific language governing permissions and\n",
        "# limitations under the License."
      ],
      "execution_count": 1,
      "outputs": []
    },
    {
      "cell_type": "code",
      "metadata": {
        "id": "RXZT2UsyIVe_",
        "outputId": "8338f27a-37cc-4d82-c34d-c3e4d11ebe4f",
        "colab": {
          "base_uri": "https://localhost:8080/"
        }
      },
      "source": [
        "# horses-or-humans dataset\n",
        "!gdown --id 1onaG42NZft3wCE1WH0GDEbUhu75fedP5\n",
        "\n",
        "# horses-or-humans validation dataset\n",
        "!gdown --id 1LYeusSEIiZQpwN-mthh5nKdA75VsKG1U\n",
        "  \n",
        "import os\n",
        "import zipfile\n",
        "\n",
        "zip_ref = zipfile.ZipFile('./horse-or-human.zip', 'r')\n",
        "zip_ref.extractall('tmp/horse-or-human')\n",
        "\n",
        "zip_ref = zipfile.ZipFile('./validation-horse-or-human.zip', 'r')\n",
        "zip_ref.extractall('tmp/validation-horse-or-human')\n",
        "\n",
        "zip_ref.close()\n",
        "\n",
        "# Directory with our training horse pictures\n",
        "train_horse_dir = os.path.join('tmp/horse-or-human/horses')\n",
        "\n",
        "# Directory with our training human pictures\n",
        "train_human_dir = os.path.join('tmp/horse-or-human/humans')\n",
        "\n",
        "# Directory with our training horse pictures\n",
        "validation_horse_dir = os.path.join('tmp/validation-horse-or-human/horses')\n",
        "\n",
        "# Directory with our training human pictures\n",
        "validation_human_dir = os.path.join('tmp/validation-horse-or-human/humans')"
      ],
      "execution_count": 2,
      "outputs": [
        {
          "output_type": "stream",
          "name": "stdout",
          "text": [
            "Downloading...\n",
            "From: https://drive.google.com/uc?id=1onaG42NZft3wCE1WH0GDEbUhu75fedP5\n",
            "To: /content/horse-or-human.zip\n",
            "100% 150M/150M [00:02<00:00, 74.7MB/s]\n",
            "Downloading...\n",
            "From: https://drive.google.com/uc?id=1LYeusSEIiZQpwN-mthh5nKdA75VsKG1U\n",
            "To: /content/validation-horse-or-human.zip\n",
            "100% 11.5M/11.5M [00:00<00:00, 36.4MB/s]\n"
          ]
        }
      ]
    },
    {
      "cell_type": "markdown",
      "metadata": {
        "id": "5oqBkNBJmtUv"
      },
      "source": [
        "## Building a Small Model from Scratch\n",
        "\n",
        "But before we continue, let's start defining the model:\n",
        "\n",
        "Step 1 will be to import tensorflow."
      ]
    },
    {
      "cell_type": "code",
      "metadata": {
        "id": "qvfZg3LQbD-5"
      },
      "source": [
        "import tensorflow as tf"
      ],
      "execution_count": 3,
      "outputs": []
    },
    {
      "cell_type": "markdown",
      "metadata": {
        "id": "BnhYCP4tdqjC"
      },
      "source": [
        "We then add convolutional layers as in the previous example, and flatten the final result to feed into the densely connected layers."
      ]
    },
    {
      "cell_type": "markdown",
      "metadata": {
        "id": "gokG5HKpdtzm"
      },
      "source": [
        "Finally we add the densely connected layers. \n",
        "\n",
        "Note that because we are facing a two-class classification problem, i.e. a *binary classification problem*, we will end our network with a [*sigmoid* activation](https://wikipedia.org/wiki/Sigmoid_function), so that the output of our network will be a single scalar between 0 and 1, encoding the probability that the current image is class 1 (as opposed to class 0)."
      ]
    },
    {
      "cell_type": "code",
      "metadata": {
        "id": "PixZ2s5QbYQ3"
      },
      "source": [
        "model = tf.keras.models.Sequential([\n",
        "    # Note the input shape is the desired size of the image 300x300 with 3 bytes color\n",
        "    # This is the first convolution\n",
        "    tf.keras.layers.Conv2D(16, (3,3), activation='relu', input_shape=(300, 300, 3)),\n",
        "    tf.keras.layers.MaxPooling2D(2, 2),\n",
        "    # The second convolution\n",
        "    tf.keras.layers.Conv2D(32, (3,3), activation='relu'),\n",
        "    tf.keras.layers.MaxPooling2D(2,2),\n",
        "    # The third convolution\n",
        "    tf.keras.layers.Conv2D(64, (3,3), activation='relu'),\n",
        "    tf.keras.layers.MaxPooling2D(2,2),\n",
        "    # The fourth convolution\n",
        "    tf.keras.layers.Conv2D(64, (3,3), activation='relu'),\n",
        "    tf.keras.layers.MaxPooling2D(2,2),\n",
        "    # The fifth convolution\n",
        "    tf.keras.layers.Conv2D(64, (3,3), activation='relu'),\n",
        "    tf.keras.layers.MaxPooling2D(2,2),\n",
        "    # Flatten the results to feed into a DNN\n",
        "    tf.keras.layers.Flatten(),\n",
        "    # 512 neuron hidden layer\n",
        "    tf.keras.layers.Dense(512, activation='relu'),\n",
        "    # Only 1 output neuron. It will contain a value from 0-1 where 0 for 1 class ('horses') and 1 for the other ('humans')\n",
        "    tf.keras.layers.Dense(1, activation='sigmoid')\n",
        "])"
      ],
      "execution_count": 4,
      "outputs": []
    },
    {
      "cell_type": "code",
      "metadata": {
        "id": "8DHWhFP_uhq3"
      },
      "source": [
        "from tensorflow.keras.optimizers import RMSprop\n",
        "\n",
        "model.compile(loss='binary_crossentropy',\n",
        "              optimizer=RMSprop(learning_rate=1e-4),\n",
        "              metrics=['accuracy'])"
      ],
      "execution_count": 5,
      "outputs": []
    },
    {
      "cell_type": "code",
      "metadata": {
        "id": "ClebU9NJg99G",
        "outputId": "d4a7c936-4d59-4021-bc1c-38c87771b856",
        "colab": {
          "base_uri": "https://localhost:8080/"
        }
      },
      "source": [
        "from tensorflow.keras.preprocessing.image import ImageDataGenerator\n",
        "\n",
        "# All images will be rescaled by 1./255\n",
        "train_datagen = ImageDataGenerator(\n",
        "      rescale=1./255,\n",
        "      rotation_range=40,\n",
        "      width_shift_range=0.2,\n",
        "      height_shift_range=0.2,\n",
        "      shear_range=0.2,\n",
        "      zoom_range=0.2,\n",
        "      horizontal_flip=True,\n",
        "      fill_mode='nearest')\n",
        "\n",
        "validation_datagen = ImageDataGenerator(rescale=1/255)\n",
        "\n",
        "# Flow training images in batches of 128 using train_datagen generator\n",
        "train_generator = train_datagen.flow_from_directory(\n",
        "        'tmp/horse-or-human/',  # This is the source directory for training images\n",
        "        target_size=(300, 300),  # All images will be resized to 150x150\n",
        "        batch_size=128,\n",
        "        # Since we use binary_crossentropy loss, we need binary labels\n",
        "        class_mode='binary')\n",
        "\n",
        "# Flow training images in batches of 128 using train_datagen generator\n",
        "validation_generator = validation_datagen.flow_from_directory(\n",
        "        'tmp/validation-horse-or-human/',  # This is the source directory for training images\n",
        "        target_size=(300, 300),  # All images will be resized to 150x150\n",
        "        batch_size=32,\n",
        "        # Since we use binary_crossentropy loss, we need binary labels\n",
        "        class_mode='binary')"
      ],
      "execution_count": 6,
      "outputs": [
        {
          "output_type": "stream",
          "name": "stdout",
          "text": [
            "Found 1027 images belonging to 2 classes.\n",
            "Found 256 images belonging to 2 classes.\n"
          ]
        }
      ]
    },
    {
      "cell_type": "code",
      "metadata": {
        "id": "Fb1_lgobv81m",
        "outputId": "7bc64982-9253-4bd9-c4c1-72c7a78f8998",
        "colab": {
          "base_uri": "https://localhost:8080/"
        }
      },
      "source": [
        "history = model.fit(\n",
        "      train_generator,\n",
        "      steps_per_epoch=8,  \n",
        "      epochs=100,\n",
        "      verbose=1,\n",
        "      validation_data = validation_generator,\n",
        "      validation_steps=8)"
      ],
      "execution_count": null,
      "outputs": [
        {
          "output_type": "stream",
          "name": "stdout",
          "text": [
            "Epoch 1/100\n",
            "8/8 [==============================] - 35s 3s/step - loss: 0.6823 - accuracy: 0.5106 - val_loss: 0.6972 - val_accuracy: 0.5000\n",
            "Epoch 2/100\n",
            "8/8 [==============================] - 25s 3s/step - loss: 0.6589 - accuracy: 0.6452 - val_loss: 0.6500 - val_accuracy: 0.5898\n",
            "Epoch 3/100\n",
            "8/8 [==============================] - 24s 3s/step - loss: 0.6441 - accuracy: 0.6485 - val_loss: 0.6662 - val_accuracy: 0.5000\n",
            "Epoch 4/100\n",
            "8/8 [==============================] - 24s 3s/step - loss: 0.6183 - accuracy: 0.6652 - val_loss: 0.6657 - val_accuracy: 0.5195\n",
            "Epoch 5/100\n",
            "8/8 [==============================] - 25s 3s/step - loss: 0.5777 - accuracy: 0.6974 - val_loss: 0.6453 - val_accuracy: 0.5781\n",
            "Epoch 6/100\n",
            "8/8 [==============================] - 24s 3s/step - loss: 0.5694 - accuracy: 0.7164 - val_loss: 0.8486 - val_accuracy: 0.5078\n",
            "Epoch 7/100\n",
            "8/8 [==============================] - 24s 3s/step - loss: 0.5327 - accuracy: 0.7542 - val_loss: 0.7609 - val_accuracy: 0.5781\n",
            "Epoch 8/100\n",
            "8/8 [==============================] - 24s 3s/step - loss: 0.5260 - accuracy: 0.7430 - val_loss: 1.0035 - val_accuracy: 0.5273\n",
            "Epoch 9/100\n",
            "8/8 [==============================] - 25s 3s/step - loss: 0.5319 - accuracy: 0.7330 - val_loss: 0.9466 - val_accuracy: 0.5625\n",
            "Epoch 10/100\n",
            "8/8 [==============================] - 24s 3s/step - loss: 0.5197 - accuracy: 0.7286 - val_loss: 0.7435 - val_accuracy: 0.6133\n",
            "Epoch 11/100\n",
            "8/8 [==============================] - 24s 3s/step - loss: 0.4906 - accuracy: 0.7519 - val_loss: 1.2420 - val_accuracy: 0.5312\n",
            "Epoch 12/100\n",
            "8/8 [==============================] - 24s 3s/step - loss: 0.4884 - accuracy: 0.7608 - val_loss: 1.1730 - val_accuracy: 0.5625\n",
            "Epoch 13/100\n",
            "8/8 [==============================] - 24s 3s/step - loss: 0.5015 - accuracy: 0.7475 - val_loss: 0.8854 - val_accuracy: 0.6211\n",
            "Epoch 14/100\n",
            "8/8 [==============================] - 24s 3s/step - loss: 0.4448 - accuracy: 0.7998 - val_loss: 0.9058 - val_accuracy: 0.6367\n",
            "Epoch 15/100\n",
            "8/8 [==============================] - 24s 3s/step - loss: 0.4696 - accuracy: 0.7697 - val_loss: 1.1572 - val_accuracy: 0.5703\n",
            "Epoch 16/100\n",
            "8/8 [==============================] - 25s 3s/step - loss: 0.4361 - accuracy: 0.7875 - val_loss: 1.1887 - val_accuracy: 0.5977\n",
            "Epoch 17/100\n",
            "8/8 [==============================] - 24s 3s/step - loss: 0.4413 - accuracy: 0.8076 - val_loss: 1.2329 - val_accuracy: 0.5898\n",
            "Epoch 18/100\n",
            "8/8 [==============================] - 25s 3s/step - loss: 0.4240 - accuracy: 0.8076 - val_loss: 1.3325 - val_accuracy: 0.5820\n",
            "Epoch 19/100\n",
            "8/8 [==============================] - 25s 3s/step - loss: 0.3665 - accuracy: 0.8565 - val_loss: 1.3005 - val_accuracy: 0.5898\n",
            "Epoch 20/100\n",
            "8/8 [==============================] - 25s 3s/step - loss: 0.3726 - accuracy: 0.8409 - val_loss: 1.4009 - val_accuracy: 0.5898\n",
            "Epoch 21/100\n",
            "8/8 [==============================] - 25s 3s/step - loss: 0.3907 - accuracy: 0.8187 - val_loss: 1.5457 - val_accuracy: 0.5742\n",
            "Epoch 22/100\n",
            "8/8 [==============================] - 25s 3s/step - loss: 0.3569 - accuracy: 0.8454 - val_loss: 1.5194 - val_accuracy: 0.5859\n",
            "Epoch 23/100\n",
            "8/8 [==============================] - 25s 3s/step - loss: 0.3433 - accuracy: 0.8554 - val_loss: 1.7568 - val_accuracy: 0.5625\n",
            "Epoch 24/100\n",
            "8/8 [==============================] - 24s 3s/step - loss: 0.3338 - accuracy: 0.8587 - val_loss: 2.5053 - val_accuracy: 0.5078\n",
            "Epoch 25/100\n",
            "8/8 [==============================] - 24s 3s/step - loss: 0.3287 - accuracy: 0.8498 - val_loss: 1.3479 - val_accuracy: 0.6562\n",
            "Epoch 26/100\n",
            "8/8 [==============================] - 24s 3s/step - loss: 0.3692 - accuracy: 0.8409 - val_loss: 1.9515 - val_accuracy: 0.5703\n",
            "Epoch 27/100\n",
            "8/8 [==============================] - 24s 3s/step - loss: 0.3591 - accuracy: 0.8398 - val_loss: 2.0537 - val_accuracy: 0.5664\n",
            "Epoch 28/100\n",
            "8/8 [==============================] - 24s 3s/step - loss: 0.3284 - accuracy: 0.8543 - val_loss: 1.9183 - val_accuracy: 0.5664\n",
            "Epoch 29/100\n",
            "8/8 [==============================] - 24s 3s/step - loss: 0.2780 - accuracy: 0.8843 - val_loss: 1.8007 - val_accuracy: 0.5938\n",
            "Epoch 30/100\n",
            "8/8 [==============================] - 24s 3s/step - loss: 0.2815 - accuracy: 0.8821 - val_loss: 1.9831 - val_accuracy: 0.5742\n",
            "Epoch 31/100\n",
            "8/8 [==============================] - 24s 3s/step - loss: 0.2950 - accuracy: 0.8732 - val_loss: 2.7762 - val_accuracy: 0.5078\n",
            "Epoch 32/100\n",
            "8/8 [==============================] - 24s 3s/step - loss: 0.3156 - accuracy: 0.8610 - val_loss: 2.4631 - val_accuracy: 0.5234\n",
            "Epoch 33/100\n",
            "8/8 [==============================] - 24s 3s/step - loss: 0.2699 - accuracy: 0.8854 - val_loss: 1.8911 - val_accuracy: 0.5781\n",
            "Epoch 34/100\n",
            "8/8 [==============================] - 27s 3s/step - loss: 0.2261 - accuracy: 0.9199 - val_loss: 2.2637 - val_accuracy: 0.5664\n",
            "Epoch 35/100\n",
            "8/8 [==============================] - 24s 3s/step - loss: 0.3027 - accuracy: 0.8632 - val_loss: 1.7558 - val_accuracy: 0.6211\n",
            "Epoch 36/100\n",
            "8/8 [==============================] - 24s 3s/step - loss: 0.2326 - accuracy: 0.9055 - val_loss: 2.4999 - val_accuracy: 0.5664\n",
            "Epoch 37/100\n",
            "8/8 [==============================] - 24s 3s/step - loss: 0.2508 - accuracy: 0.8899 - val_loss: 2.0871 - val_accuracy: 0.5781\n",
            "Epoch 38/100\n",
            "8/8 [==============================] - 24s 3s/step - loss: 0.2492 - accuracy: 0.8977 - val_loss: 2.7415 - val_accuracy: 0.5391\n",
            "Epoch 39/100\n",
            "8/8 [==============================] - 24s 3s/step - loss: 0.2247 - accuracy: 0.9099 - val_loss: 3.4620 - val_accuracy: 0.5039\n",
            "Epoch 40/100\n",
            "8/8 [==============================] - 25s 3s/step - loss: 0.2313 - accuracy: 0.9088 - val_loss: 3.0185 - val_accuracy: 0.5234\n",
            "Epoch 41/100\n",
            "8/8 [==============================] - 24s 3s/step - loss: 0.2174 - accuracy: 0.9121 - val_loss: 2.8829 - val_accuracy: 0.5352\n",
            "Epoch 42/100\n",
            "8/8 [==============================] - 27s 3s/step - loss: 0.2437 - accuracy: 0.8955 - val_loss: 2.6913 - val_accuracy: 0.5469\n"
          ]
        }
      ]
    },
    {
      "cell_type": "code",
      "metadata": {
        "id": "7zNPRWOVJdOH"
      },
      "source": [
        "import matplotlib.pyplot as plt\n",
        "acc = history.history['accuracy']\n",
        "val_acc = history.history['val_accuracy']\n",
        "loss = history.history['loss']\n",
        "val_loss = history.history['val_loss']\n",
        "\n",
        "epochs = range(len(acc))\n",
        "\n",
        "plt.plot(epochs, acc, 'r', label='Training accuracy')\n",
        "plt.plot(epochs, val_acc, 'b', label='Validation accuracy')\n",
        "plt.title('Training and validation accuracy')\n",
        "\n",
        "plt.figure()\n",
        "\n",
        "plt.plot(epochs, loss, 'r', label='Training Loss')\n",
        "plt.plot(epochs, val_loss, 'b', label='Validation Loss')\n",
        "plt.title('Training and validation loss')\n",
        "plt.legend()\n",
        "\n",
        "plt.show()"
      ],
      "execution_count": null,
      "outputs": []
    }
  ]
}